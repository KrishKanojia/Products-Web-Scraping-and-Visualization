{
 "cells": [
  {
   "cell_type": "code",
   "execution_count": 1,
   "id": "f05801b7",
   "metadata": {},
   "outputs": [],
   "source": [
    "import requests\n",
    "from bs4 import BeautifulSoup\n",
    "import matplotlib.pyplot as plt"
   ]
  },
  {
   "cell_type": "code",
   "execution_count": 2,
   "id": "df4eccaf",
   "metadata": {},
   "outputs": [],
   "source": [
    "# Header Request\n",
    "HEADERS = ({\"User-Agent\": \"Mozilla/5.0 (Macintosh; Intel Mac OS X 10_15_7) AppleWebKit/537.36 (KHTML, like Gecko) Chrome/111.0.0.0 Safari/537.36\",\n",
    "           \"Accept-Language\" : \"en-US, en;q=0.5\"})"
   ]
  },
  {
   "cell_type": "code",
   "execution_count": 3,
   "id": "74061835",
   "metadata": {},
   "outputs": [],
   "source": [
    "def fetch_content(url,headers=HEADERS):\n",
    "    page = requests.get(url=url,headers=headers)\n",
    "    return BeautifulSoup(page.content,\"html.parser\"), page"
   ]
  },
  {
   "cell_type": "code",
   "execution_count": 4,
   "id": "05d93ded",
   "metadata": {},
   "outputs": [
    {
     "name": "stdout",
     "output_type": "stream",
     "text": [
      "<Response [200]>\n"
     ]
    }
   ],
   "source": [
    "amazon_macbook_url = \"https://www.amazon.com/2022-Apple-MacBook-Laptop-chip/dp/B0B3C8XMXM/ref=sr_1_4?crid=39KJ0Z553SNPO&keywords=mac+m2+pro&qid=1680006365&sprefix=mac+m2+pro%2Caps%2C232&sr=8-4\"\n",
    "\n",
    "amazon_data,reponse = fetch_content(amazon_macbook_url)\n",
    "print(reponse)"
   ]
  },
  {
   "cell_type": "code",
   "execution_count": null,
   "id": "ecb05add",
   "metadata": {},
   "outputs": [],
   "source": []
  },
  {
   "cell_type": "code",
   "execution_count": 7,
   "id": "de6e8e15",
   "metadata": {},
   "outputs": [],
   "source": [
    "results = amazon_data.find(id=\"corePrice_desktop\")"
   ]
  },
  {
   "cell_type": "code",
   "execution_count": 8,
   "id": "b79a70db",
   "metadata": {},
   "outputs": [],
   "source": [
    "price = results.find(\"span\", class_ = \"a-offscreen\")"
   ]
  },
  {
   "cell_type": "code",
   "execution_count": 9,
   "id": "c6ec011b",
   "metadata": {},
   "outputs": [],
   "source": [
    "amazaon_price_num = price.text\n",
    "characters_to_remove  = [\"$\",\",\"]\n",
    "\n",
    "for char in characters_to_remove:\n",
    "    amazaon_price_num = amazaon_price_num.replace(char,'')\n",
    "\n",
    "amazaon_price_num = float(amazaon_price_num)"
   ]
  },
  {
   "cell_type": "code",
   "execution_count": 10,
   "id": "ddc687e8",
   "metadata": {},
   "outputs": [
    {
     "name": "stdout",
     "output_type": "stream",
     "text": [
      "<Response [200]>\n"
     ]
    }
   ],
   "source": [
    "ebay_macbook_url = \"https://www.ebay.com/itm/334554125569?var=543632063102&hash=item4de4fad501:g:2dgAAOSwbLRjGA2k&amdata=enc%3AAQAHAAABsJ4YET06vMO9b5CFQqNRnOLpjKRKV%2BoZuh112CcSbKHKgNkR0jMpIJLqe0acJ0kubKVK%2FZIIzWOkEwNejp5zUnZepLgUZhQaUkmW3%2FLiVx1O75f8I01HVeoewd0YrTVJRZiES1uGtxzOaQ211tB8xPjJwLVso7OcuH7l6%2B3meXJibDNX45fGCBLaOhEzjca54jq4YG6RoezMx1FbIRimisocJHoQ%2FsmiAjkjElLttDNu4hhDcnHqbG7YPcQCfpOi%2FYjBW2eVKxHATGp7t5UTMtoCaRbSIF9pwWP1HdRI6iJBqQaqL%2FejGPWWxuQmKtFj5HgRU%2FdhE0BI5TxBQho0UTq0nLa4S%2F1cNnNvyXSXlPX5W7b1GBI7lEj3yutEJZxCexwWzAAeu1282IutgaVMjorvVd%2BohjIymCwQal2MSonrRMlNsVAmLeU5UqN4EjXUhe2cHsI4nRo3hkoyPLQ0CWD5pfHI3xa5i%2BE%2F7k44MkX7GPPi8Vhl9QLVQJ8%2FwV75HlS298q8A2eF6qJlVBG0Z0BmB8PiDSxNeVQVvRIwdi2S1KA6H%2FGdmpNaLh096Vq64w%3D%3D%7Ctkp%3ABk9SR6yQ-oLlYQ\"\n",
    "\n",
    "ebay_data,reponse = fetch_content(ebay_macbook_url)\n",
    "print(reponse)"
   ]
  },
  {
   "cell_type": "code",
   "execution_count": 11,
   "id": "824bf4c7",
   "metadata": {},
   "outputs": [
    {
     "name": "stdout",
     "output_type": "stream",
     "text": [
      "1799.73\n"
     ]
    }
   ],
   "source": [
    "ebay_price = ebay_data.find(\"span\", itemprop=\"price\")\n",
    "\n",
    "ebay_price_num = float(ebay_price.get('content'))\n",
    "print(ebay_price_num)"
   ]
  },
  {
   "cell_type": "code",
   "execution_count": 12,
   "id": "23086669",
   "metadata": {},
   "outputs": [
    {
     "data": {
      "image/png": "[encoded data removed]",
      "text/plain": [
       "<Figure size 640x480 with 1 Axes>"
      ]
     },
     "metadata": {},
     "output_type": "display_data"
    }
   ],
   "source": [
    "fig = plt.figure()\n",
    "ax = fig.add_axes([0,  0,1, 1])\n",
    "data = [\"Amazon\",\"Ebay\"]\n",
    "num = [amazaon_price_num,ebay_price_num]\n",
    "ax.bar(data,num)\n",
    "plt.title(\"Macbook Pro 2022\")\n",
    "plt.show()"
   ]
  },
  {
   "cell_type": "markdown",
   "id": "693df586",
   "metadata": {},
   "source": [
    "## Observation: \n",
    "1. Macbook Pro 2022 Amazon's price is lower than Ebay"
   ]
  }
 ],
 "metadata": {
  "kernelspec": {
   "display_name": "Python 3 (ipykernel)",
   "language": "python",
   "name": "python3"
  },
  "language_info": {
   "codemirror_mode": {
    "name": "ipython",
    "version": 3
   },
   "file_extension": ".py",
   "mimetype": "text/x-python",
   "name": "python",
   "nbconvert_exporter": "python",
   "pygments_lexer": "ipython3",
   "version": "3.9.13"
  }
 },
 "nbformat": 4,
 "nbformat_minor": 5
}
